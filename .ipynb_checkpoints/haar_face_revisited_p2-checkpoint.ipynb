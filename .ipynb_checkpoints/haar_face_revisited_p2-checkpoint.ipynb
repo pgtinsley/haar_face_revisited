{
 "cells": [
  {
   "cell_type": "code",
   "execution_count": 2,
   "metadata": {},
   "outputs": [],
   "source": [
    "import pickle"
   ]
  },
  {
   "cell_type": "code",
   "execution_count": 3,
   "metadata": {},
   "outputs": [],
   "source": [
    "f1 = open('clip-103.pickle', 'rb')\n",
    "f2 = open('clip-105.pickle', 'rb')\n",
    "f3 = open('clip-108.pickle', 'rb')\n",
    "f4 = open('clip-110.pickle', 'rb')\n",
    "f5 = open('clip-115.pickle', 'rb')"
   ]
  },
  {
   "cell_type": "code",
   "execution_count": 4,
   "metadata": {},
   "outputs": [],
   "source": [
    "clip_103_dict = pickle.load(f1)\n",
    "clip_105_dict = pickle.load(f2)\n",
    "clip_108_dict = pickle.load(f3)\n",
    "clip_110_dict = pickle.load(f4)\n",
    "clip_115_dict = pickle.load(f5)"
   ]
  },
  {
   "cell_type": "code",
   "execution_count": 5,
   "metadata": {},
   "outputs": [],
   "source": [
    "dicts = [clip_103_dict, clip_105_dict, clip_108_dict, clip_110_dict, clip_115_dict]"
   ]
  },
  {
   "cell_type": "code",
   "execution_count": 6,
   "metadata": {},
   "outputs": [],
   "source": [
    "list_of_lists = []\n",
    "for d in dicts:\n",
    "    my_list = []\n",
    "    for key, value in d.items():\n",
    "        my_list.append(value['sec'])\n",
    "    my_list = [1/item for item in my_list[1:]] # discard 1st frame for cold start latency\n",
    "    list_of_lists.append(my_list)"
   ]
  },
  {
   "cell_type": "code",
   "execution_count": 8,
   "metadata": {},
   "outputs": [],
   "source": [
    "import plotly\n",
    "import plotly.plotly as py\n",
    "import plotly.graph_objs as go\n",
    "import pandas as pd"
   ]
  },
  {
   "cell_type": "code",
   "execution_count": 19,
   "metadata": {},
   "outputs": [
    {
     "data": {
      "text/plain": [
       "(1133, 5)"
      ]
     },
     "execution_count": 19,
     "metadata": {},
     "output_type": "execute_result"
    }
   ],
   "source": [
    "df = pd.DataFrame(list_of_lists).transpose()\n",
    "df.columns = ['1.03','1.05','1.08','1.10','1.15']\n",
    "df.shape"
   ]
  },
  {
   "cell_type": "code",
   "execution_count": 20,
   "metadata": {},
   "outputs": [],
   "source": [
    "data = [{\n",
    "    'x': df.index,\n",
    "    'y': df[col],\n",
    "    'name': col\n",
    "}  for col in df.columns]"
   ]
  },
  {
   "cell_type": "code",
   "execution_count": 21,
   "metadata": {},
   "outputs": [],
   "source": [
    "layout = go.Layout(\n",
    "    title='Face Extraction (scaleFactor)',\n",
    "    yaxis=dict(       \n",
    "        title='fps',\n",
    "    ),\n",
    "    xaxis=dict(\n",
    "        title='frame number',\n",
    "    )\n",
    ")"
   ]
  },
  {
   "cell_type": "code",
   "execution_count": 22,
   "metadata": {},
   "outputs": [],
   "source": [
    "fig = go.Figure(data=data, layout=layout)"
   ]
  },
  {
   "cell_type": "code",
   "execution_count": 25,
   "metadata": {},
   "outputs": [],
   "source": [
    "# py.iplot(fig)"
   ]
  },
  {
   "cell_type": "code",
   "execution_count": 24,
   "metadata": {},
   "outputs": [
    {
     "data": {
      "text/html": [
       "<div>\n",
       "<style scoped>\n",
       "    .dataframe tbody tr th:only-of-type {\n",
       "        vertical-align: middle;\n",
       "    }\n",
       "\n",
       "    .dataframe tbody tr th {\n",
       "        vertical-align: top;\n",
       "    }\n",
       "\n",
       "    .dataframe thead th {\n",
       "        text-align: right;\n",
       "    }\n",
       "</style>\n",
       "<table border=\"1\" class=\"dataframe\">\n",
       "  <thead>\n",
       "    <tr style=\"text-align: right;\">\n",
       "      <th></th>\n",
       "      <th>1.03</th>\n",
       "      <th>1.05</th>\n",
       "      <th>1.08</th>\n",
       "      <th>1.10</th>\n",
       "      <th>1.15</th>\n",
       "    </tr>\n",
       "  </thead>\n",
       "  <tbody>\n",
       "    <tr>\n",
       "      <th>count</th>\n",
       "      <td>1133.000000</td>\n",
       "      <td>1133.000000</td>\n",
       "      <td>1133.000000</td>\n",
       "      <td>1133.000000</td>\n",
       "      <td>1133.000000</td>\n",
       "    </tr>\n",
       "    <tr>\n",
       "      <th>mean</th>\n",
       "      <td>3.774547</td>\n",
       "      <td>5.859208</td>\n",
       "      <td>8.674758</td>\n",
       "      <td>10.083846</td>\n",
       "      <td>13.147293</td>\n",
       "    </tr>\n",
       "    <tr>\n",
       "      <th>std</th>\n",
       "      <td>0.201534</td>\n",
       "      <td>0.380261</td>\n",
       "      <td>0.660399</td>\n",
       "      <td>0.844843</td>\n",
       "      <td>1.090515</td>\n",
       "    </tr>\n",
       "    <tr>\n",
       "      <th>min</th>\n",
       "      <td>2.833463</td>\n",
       "      <td>4.752063</td>\n",
       "      <td>6.904113</td>\n",
       "      <td>8.150040</td>\n",
       "      <td>10.709344</td>\n",
       "    </tr>\n",
       "    <tr>\n",
       "      <th>25%</th>\n",
       "      <td>3.651186</td>\n",
       "      <td>5.590370</td>\n",
       "      <td>8.160331</td>\n",
       "      <td>9.421528</td>\n",
       "      <td>12.327921</td>\n",
       "    </tr>\n",
       "    <tr>\n",
       "      <th>50%</th>\n",
       "      <td>3.768410</td>\n",
       "      <td>5.844368</td>\n",
       "      <td>8.607408</td>\n",
       "      <td>10.033236</td>\n",
       "      <td>13.003054</td>\n",
       "    </tr>\n",
       "    <tr>\n",
       "      <th>75%</th>\n",
       "      <td>3.896745</td>\n",
       "      <td>6.115991</td>\n",
       "      <td>9.122455</td>\n",
       "      <td>10.667101</td>\n",
       "      <td>13.877487</td>\n",
       "    </tr>\n",
       "    <tr>\n",
       "      <th>max</th>\n",
       "      <td>4.454226</td>\n",
       "      <td>7.168648</td>\n",
       "      <td>10.622202</td>\n",
       "      <td>13.281141</td>\n",
       "      <td>16.811511</td>\n",
       "    </tr>\n",
       "  </tbody>\n",
       "</table>\n",
       "</div>"
      ],
      "text/plain": [
       "              1.03         1.05         1.08         1.10         1.15\n",
       "count  1133.000000  1133.000000  1133.000000  1133.000000  1133.000000\n",
       "mean      3.774547     5.859208     8.674758    10.083846    13.147293\n",
       "std       0.201534     0.380261     0.660399     0.844843     1.090515\n",
       "min       2.833463     4.752063     6.904113     8.150040    10.709344\n",
       "25%       3.651186     5.590370     8.160331     9.421528    12.327921\n",
       "50%       3.768410     5.844368     8.607408    10.033236    13.003054\n",
       "75%       3.896745     6.115991     9.122455    10.667101    13.877487\n",
       "max       4.454226     7.168648    10.622202    13.281141    16.811511"
      ]
     },
     "execution_count": 24,
     "metadata": {},
     "output_type": "execute_result"
    }
   ],
   "source": [
    "df.describe()"
   ]
  },
  {
   "cell_type": "code",
   "execution_count": 26,
   "metadata": {},
   "outputs": [],
   "source": [
    "# df.describe().to_html()"
   ]
  },
  {
   "cell_type": "markdown",
   "metadata": {},
   "source": [
    "## Accuracy"
   ]
  },
  {
   "cell_type": "code",
   "execution_count": 28,
   "metadata": {},
   "outputs": [],
   "source": [
    "appearances = {}\n",
    "f = open('../true_v_inferred/clip-Appearances.txt','r')\n",
    "for x in f:\n",
    "    split = x.strip('\\n').split(',')\n",
    "    actor = int(split[0])\n",
    "    appearances[actor] = [int(split[1]), int(split[2])]"
   ]
  },
  {
   "cell_type": "code",
   "execution_count": 29,
   "metadata": {},
   "outputs": [
    {
     "data": {
      "text/plain": [
       "{0: [107, 292], 1: [763, 1018]}"
      ]
     },
     "execution_count": 29,
     "metadata": {},
     "output_type": "execute_result"
    }
   ],
   "source": [
    "appearances"
   ]
  },
  {
   "cell_type": "code",
   "execution_count": 35,
   "metadata": {},
   "outputs": [
    {
     "name": "stdout",
     "output_type": "stream",
     "text": [
      "0.8909090909090909\n",
      "0.7659090909090909\n",
      "0.6659090909090909\n",
      "0.5840909090909091\n",
      "0.4954545454545455\n"
     ]
    }
   ],
   "source": [
    "for d in dicts:\n",
    "    \n",
    "    tp = 0\n",
    "    fn = 0\n",
    "    \n",
    "    for actor in appearances.keys():\n",
    "        for fnum in range(appearances[actor][0], appearances[actor][1]):\n",
    "            \n",
    "            faces_found = d[fnum]['coords_list']\n",
    "            \n",
    "            if len(faces_found)>0: # detected\n",
    "                tp += 1\n",
    "            else: # not detected\n",
    "                fn += 1\n",
    "                \n",
    "#     print('{}, {}'.format(tp, fn))\n",
    "    print(tp/(tp+fn))\n",
    "    \n",
    "# problem with this approach...\n",
    "# we are counting true positives as just if a face is detected in that frame... \n",
    "# we don't know if this bounding box in \"coords_list\" actually corresponds to a face...\n",
    "# similarly, in the case of more than 1 faces found, we count that as a false positive when there...\n",
    "# might be a face correctly detected -- we don't want to penalize too harshly for finding a face and also thinking\n",
    "# there is another face in the frame\n",
    "# two options:\n",
    "# 1) manually construct some ground truth data for the short clip (bounding boxes for each of the actors faces) \n",
    "# {might need to be done at some point anyway}\n",
    "# 2) add a second face detector that loops through the coords_list to check if a face actually is in the region"
   ]
  },
  {
   "cell_type": "code",
   "execution_count": null,
   "metadata": {},
   "outputs": [],
   "source": [
    "tp = 0 # face there, face detected\n",
    "fn = 0 # face there, face not detected\n",
    "\n",
    "for actor in appearances.keys():\n",
    "    for fnum in range(appearances[actor][0], appearances[actor][1]):\n",
    "        true_found = true_dict[fnum]['coords_list']\n",
    "        if len(true_found)==1: # detected\n",
    "            tp += 1\n",
    "        else: # not detected\n",
    "            fn += 1"
   ]
  }
 ],
 "metadata": {
  "kernelspec": {
   "display_name": "Python 3",
   "language": "python",
   "name": "python3"
  },
  "language_info": {
   "codemirror_mode": {
    "name": "ipython",
    "version": 3
   },
   "file_extension": ".py",
   "mimetype": "text/x-python",
   "name": "python",
   "nbconvert_exporter": "python",
   "pygments_lexer": "ipython3",
   "version": "3.7.3"
  }
 },
 "nbformat": 4,
 "nbformat_minor": 2
}
