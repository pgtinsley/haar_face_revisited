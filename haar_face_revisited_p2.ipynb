{
 "cells": [
  {
   "cell_type": "code",
   "execution_count": null,
   "metadata": {},
   "outputs": [],
   "source": [
    "import pickle"
   ]
  },
  {
   "cell_type": "code",
   "execution_count": null,
   "metadata": {},
   "outputs": [],
   "source": [
    "f1 = open('clip-103.pickle', 'rb')\n",
    "f2 = open('clip-105.pickle', 'rb')\n",
    "f3 = open('clip-108.pickle', 'rb')\n",
    "f4 = open('clip-110.pickle', 'rb')\n",
    "f5 = open('clip-115.pickle', 'rb')"
   ]
  },
  {
   "cell_type": "code",
   "execution_count": null,
   "metadata": {},
   "outputs": [],
   "source": [
    "clip_103_dict = pickle.load(f1)\n",
    "clip_105_dict = pickle.load(f2)\n",
    "clip_108_dict = pickle.load(f3)\n",
    "clip_110_dict = pickle.load(f4)\n",
    "clip_115_dict = pickle.load(f5)"
   ]
  },
  {
   "cell_type": "code",
   "execution_count": null,
   "metadata": {},
   "outputs": [],
   "source": [
    "dicts = [clip_103_dict, clip_105_dict, clip_108_dict, clip_110_dict, clip_115_dict]"
   ]
  },
  {
   "cell_type": "code",
   "execution_count": null,
   "metadata": {},
   "outputs": [],
   "source": [
    "list_of_lists = []\n",
    "for d in dicts:\n",
    "    my_list = []\n",
    "    for key, value in d.items():\n",
    "        my_list.append(value['sec'])\n",
    "    my_list = [1/item for item in my_list[1:]] # discard 1st frame for cold start latency\n",
    "    list_of_lists.append(my_list)"
   ]
  },
  {
   "cell_type": "code",
   "execution_count": null,
   "metadata": {},
   "outputs": [],
   "source": [
    "import plotly\n",
    "import plotly.plotly as py\n",
    "import plotly.graph_objs as go\n",
    "import pandas as pd"
   ]
  },
  {
   "cell_type": "code",
   "execution_count": null,
   "metadata": {},
   "outputs": [],
   "source": [
    "df = pd.DataFrame(list_of_lists).transpose()\n",
    "df.columns = ['1.03','1.05','1.08','1.10','1.15']\n",
    "df.shape"
   ]
  },
  {
   "cell_type": "code",
   "execution_count": null,
   "metadata": {},
   "outputs": [],
   "source": [
    "data = [{\n",
    "    'x': df.index,\n",
    "    'y': df[col],\n",
    "    'name': col\n",
    "}  for col in df.columns]"
   ]
  },
  {
   "cell_type": "code",
   "execution_count": null,
   "metadata": {},
   "outputs": [],
   "source": [
    "layout = go.Layout(\n",
    "    title='Face Extraction (scaleFactor)',\n",
    "    yaxis=dict(       \n",
    "        title='fps',\n",
    "    ),\n",
    "    xaxis=dict(\n",
    "        title='frame number',\n",
    "    )\n",
    ")"
   ]
  },
  {
   "cell_type": "code",
   "execution_count": null,
   "metadata": {},
   "outputs": [],
   "source": [
    "fig = go.Figure(data=data, layout=layout)"
   ]
  },
  {
   "cell_type": "code",
   "execution_count": null,
   "metadata": {},
   "outputs": [],
   "source": [
    "# py.iplot(fig)"
   ]
  },
  {
   "cell_type": "code",
   "execution_count": null,
   "metadata": {},
   "outputs": [],
   "source": [
    "df.describe()"
   ]
  },
  {
   "cell_type": "code",
   "execution_count": null,
   "metadata": {},
   "outputs": [],
   "source": [
    "# df.describe().to_html()"
   ]
  },
  {
   "cell_type": "markdown",
   "metadata": {},
   "source": [
    "## Accuracy"
   ]
  },
  {
   "cell_type": "code",
   "execution_count": null,
   "metadata": {},
   "outputs": [],
   "source": [
    "appearances = {}\n",
    "f = open('../true_v_inferred/clip-Appearances.txt','r')\n",
    "for x in f:\n",
    "    split = x.strip('\\n').split(',')\n",
    "    actor = int(split[0])\n",
    "    appearances[actor] = [int(split[1]), int(split[2])]"
   ]
  },
  {
   "cell_type": "code",
   "execution_count": null,
   "metadata": {},
   "outputs": [],
   "source": [
    "appearances"
   ]
  },
  {
   "cell_type": "code",
   "execution_count": null,
   "metadata": {},
   "outputs": [],
   "source": [
    "for d in dicts:\n",
    "    \n",
    "    tp = 0\n",
    "    fn = 0\n",
    "    \n",
    "    for actor in appearances.keys():\n",
    "        for fnum in range(appearances[actor][0], appearances[actor][1]):\n",
    "            \n",
    "            faces_found = d[fnum]['coords_list']\n",
    "            \n",
    "            if len(faces_found)>0: # detected\n",
    "                tp += 1\n",
    "            else: # not detected\n",
    "                fn += 1\n",
    "                \n",
    "    print(tp/(tp+fn))"
   ]
  }
 ],
 "metadata": {
  "kernelspec": {
   "display_name": "Python 3",
   "language": "python",
   "name": "python3"
  },
  "language_info": {
   "codemirror_mode": {
    "name": "ipython",
    "version": 3
   },
   "file_extension": ".py",
   "mimetype": "text/x-python",
   "name": "python",
   "nbconvert_exporter": "python",
   "pygments_lexer": "ipython3",
   "version": "3.7.3"
  }
 },
 "nbformat": 4,
 "nbformat_minor": 2
}
